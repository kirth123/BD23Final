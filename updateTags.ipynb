{
 "cells": [
  {
   "cell_type": "markdown",
   "metadata": {},
   "source": [
    "### Go through all documents in the Atlas base and update the documents' Tag  field to parse the concatenated string into a list of strings"
   ]
  },
  {
   "cell_type": "code",
   "execution_count": 1,
   "metadata": {},
   "outputs": [],
   "source": [
    "import pymongo\n",
    "from IPython.display import display\n",
    "from pymongo import MongoClient\n",
    "import pandas as pd\n",
    "from dotenv import dotenv_values\n",
    "\n",
    "\n",
    "config = dotenv_values(\".env\")\n",
    "\n",
    "# setup mongo connection\n",
    "client = MongoClient('mongodb+srv://' + config['MONGO_USER'] + ':' + config['MONGO_PASS'] + '@final-cluster.uucno.mongodb.net')\n",
    "db = client.final\n",
    "col = db.StackOverflowPosts"
   ]
  },
  {
   "cell_type": "markdown",
   "metadata": {},
   "source": [
    "#### Can run this update query whenever we have new data (for a more scalable workflow)"
   ]
  },
  {
   "cell_type": "code",
   "execution_count": 9,
   "metadata": {},
   "outputs": [
    {
     "name": "stdout",
     "output_type": "stream",
     "text": [
      "TAGS UPDATE COMPLETE\n"
     ]
    }
   ],
   "source": [
    "# Update every document to parse tha Tags field into a list of strings rather than a large concatenated string with all tags. \n",
    "# This will make indexing more performant and remove the need to parse in our future queries which will greatly improve our performance and get closer to realtime\n",
    "col.update_many(\n",
    "    {\"Tags\": {\"$exists\": True, \"$ne\": None}},  # Match documents with a non-null 'Tags' field\n",
    "    [\n",
    "        {\n",
    "            \"$set\": {\n",
    "                \"Tags\": {\n",
    "                    \"$cond\": {\n",
    "                        \"if\": {\"$eq\": [{\"$type\": \"$Tags\"}, \"string\"]},  # Check if 'Tags' is a string\n",
    "                        \"then\": {\n",
    "                            # Process string 'Tags' field\n",
    "                            \"$split\": [\n",
    "                                {\"$substrCP\": [\"$Tags\", 1, {\"$subtract\": [{\"$strLenCP\": \"$Tags\"}, 2]}]},\n",
    "                                \"><\"\n",
    "                            ]\n",
    "                        },\n",
    "                        \"else\": \"$Tags\"  # If not a string, leave 'Tags' as is\n",
    "                    }\n",
    "                }\n",
    "            }\n",
    "        }\n",
    "    ]\n",
    ")\n",
    "\n",
    "print(\"TAGS UPDATE COMPLETE\")"
   ]
  }
 ],
 "metadata": {
  "kernelspec": {
   "display_name": "Python 3",
   "language": "python",
   "name": "python3"
  },
  "language_info": {
   "codemirror_mode": {
    "name": "ipython",
    "version": 3
   },
   "file_extension": ".py",
   "mimetype": "text/x-python",
   "name": "python",
   "nbconvert_exporter": "python",
   "pygments_lexer": "ipython3",
   "version": "3.9.0"
  }
 },
 "nbformat": 4,
 "nbformat_minor": 2
}
